{
 "cells": [
  {
   "cell_type": "code",
   "execution_count": 1,
   "metadata": {},
   "outputs": [],
   "source": [
    "import csv\n",
    "import numpy as np\n",
    "import codecs\n",
    "import numpy as np\n",
    "from tqdm import tqdm"
   ]
  },
  {
   "cell_type": "code",
   "execution_count": 26,
   "metadata": {},
   "outputs": [
    {
     "name": "stderr",
     "output_type": "stream",
     "text": [
      "Participants: 100%|██████████| 43/43 [00:00<00:00, 71.79it/s]\n",
      "Participants: 100%|██████████| 43/43 [00:45<00:00,  1.07s/it]\n",
      "Participants: 100%|██████████| 43/43 [00:48<00:00,  1.12s/it]\n"
     ]
    }
   ],
   "source": [
    "filename = \"grabmyo/1.0.0\"\n",
    "Session = ['Session1', 'Session2', 'Session3']\n",
    "\n",
    "\n",
    "\n",
    "everything1 = []\n",
    "everything2 = []\n",
    "everything3 = []\n",
    "everything4 = []\n",
    "\n",
    "for i in Session:\n",
    "    f = filename + \"/\" + i\n",
    "    for j in tqdm(range(1,44),desc = \"Participants in \" + i):\n",
    "        fi = f + \"/\" + i.lower() + \"_participant\" + str(j)\n",
    "        for k in [11,12,15,16]:\n",
    "            fin = fi + \"/\" + i.lower() + \"_participant\" + str(j) + \"_gesture\" + str(k)\n",
    "            for l in range(1,8):\n",
    "                fina = fin + \"_trial\" + str(l) + \".dat\"\n",
    "                data = np.fromfile(fina, dtype = 'byte')\n",
    "                data = data.reshape((20480,32))\n",
    "                if k==11:\n",
    "                    everything1.append(data)\n",
    "                if k==12:\n",
    "                    everything2.append(data)\n",
    "                if k==15:\n",
    "                    everything3.append(data)\n",
    "                if k==16:\n",
    "                    everything4.append(data)\n",
    " \n",
    "                \n",
    "np.save(\"WristFlexion\", np.array(everything1))\n",
    "\n",
    "np.save(\"WristExtension\", np.array(everything2))\n",
    "\n",
    "np.save(\"HandOpen\", np.array(everything3))\n",
    "\n",
    "np.save(\"HandClose\", np.array(everything4))"
   ]
  }
 ],
 "metadata": {
  "kernelspec": {
   "display_name": "Machine-Learning",
   "language": "python",
   "name": "ml"
  },
  "language_info": {
   "codemirror_mode": {
    "name": "ipython",
    "version": 3
   },
   "file_extension": ".py",
   "mimetype": "text/x-python",
   "name": "python",
   "nbconvert_exporter": "python",
   "pygments_lexer": "ipython3",
   "version": "3.8.5"
  }
 },
 "nbformat": 4,
 "nbformat_minor": 4
}
